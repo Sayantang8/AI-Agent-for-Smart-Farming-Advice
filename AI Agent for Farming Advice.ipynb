{
    "metadata": {
        "kernelspec": {
            "name": "python3",
            "display_name": "Python 3.11",
            "language": "python"
        },
        "language_info": {
            "name": "python",
            "version": "3.11.13",
            "mimetype": "text/x-python",
            "codemirror_mode": {
                "name": "ipython",
                "version": 3
            },
            "pygments_lexer": "ipython3",
            "nbconvert_exporter": "python",
            "file_extension": ".py"
        }
    },
    "nbformat_minor": 4,
    "nbformat": 4,
    "cells": [
        {
            "cell_type": "markdown",
            "source": "# ========================================================\n# IBM Cloud Smart Farming AI Agent with SF24 Dataset\n# ========================================================",
            "metadata": {
                "id": "ddd747c3-8ab9-4924-b735-0ce490f2c1c5",
                "jp-MarkdownHeadingCollapsed": true
            }
        },
        {
            "cell_type": "code",
            "source": "import os, types\nimport pandas as pd\nfrom botocore.client import Config\nimport ibm_boto3\nimport numpy as np\nfrom scipy.spatial.distance import cosine\nfrom ibm_watsonx_ai.foundation_models.embeddings import Embeddings\nfrom ibm_watsonx_ai.foundation_models import Model\nfrom ibm_watsonx_ai.foundation_models.utils.enums import ModelTypes\nfrom ibm_watsonx_ai.metanames import GenTextParamsMetaNames as GenParams\nimport json",
            "metadata": {
                "id": "8ad622fa-8307-4761-90d5-4c48f4b292a9"
            },
            "outputs": [],
            "execution_count": 2
        },
        {
            "cell_type": "markdown",
            "source": "# Load the Dataset from IBM Cloud Object Storage",
            "metadata": {
                "id": "86f098d6-266a-4a53-8be3-8f76c0c2c9de"
            }
        },
        {
            "cell_type": "code",
            "source": "def __iter__(self): return 0\n\ncos_client = ibm_boto3.client(service_name='s3',\n    ibm_api_key_id='0ZP9KvojKPudwCyTK5d9hN63ujeHkvzTSilMjqCuRL0z',\n    ibm_auth_endpoint=\"https://iam.cloud.ibm.com/identity/token\",\n    config=Config(signature_version='oauth'),\n    endpoint_url='https://s3.direct.eu-gb.cloud-object-storage.appdomain.cloud')\n\nbucket = 'aifarmingadvice-donotdelete-pr-k3buvqggtf3o2s'\nobject_key = 'Smart_Farming_Data_2024.csv'\n\nbody = cos_client.get_object(Bucket=bucket,Key=object_key)['Body']\nif not hasattr(body, \"__iter__\"): \n    body.__iter__ = types.MethodType(__iter__, body)\n\nsf24_df = pd.read_csv(body)\nprint(\"SF24 dataset loaded. Shape:\", sf24_df.shape)\nprint(\"Preview:\")\nprint(sf24_df.head(3))",
            "metadata": {
                "id": "a3194e88-b633-4633-b091-f75ac48dda6d"
            },
            "outputs": [
                {
                    "name": "stdout",
                    "text": "SF24 dataset loaded. Shape: (2200, 23)\nPreview:\n    N   P   K  temperature   humidity        ph    rainfall label  \\\n0  90  42  43    20.879744  82.002744  6.502985  202.935536  rice   \n1  85  58  41    21.770462  80.319644  7.038096  226.655537  rice   \n2  60  55  44    23.004459  82.320763  7.840207  263.964248  rice   \n\n   soil_moisture  soil_type  ...  organic_matter  irrigation_frequency  \\\n0      29.446064          2  ...        3.121395                     4   \n1      12.851183          3  ...        2.142021                     4   \n2      29.363913          2  ...        1.474974                     1   \n\n   crop_density  pest_pressure  fertilizer_usage  growth_stage  \\\n0     11.743910      57.607308        188.194958             1   \n1     16.797101      74.736879         70.963629             1   \n2     12.654395       1.034478        191.976077             1   \n\n   urban_area_proximity  water_source_type  frost_risk  water_usage_efficiency  \n0              2.719614                  3   95.649985                1.193293  \n1              4.714427                  2   77.265694                1.752672  \n2             30.431736                  2   18.192168                3.035541  \n\n[3 rows x 23 columns]\n",
                    "output_type": "stream"
                }
            ],
            "execution_count": 3
        },
        {
            "cell_type": "markdown",
            "source": "# Prepare the Knowledge Base for RAG",
            "metadata": {
                "id": "57166b02-ef68-4966-915d-33494eed2b36"
            }
        },
        {
            "cell_type": "code",
            "source": "# Transform your SF24 dataset into knowledge entries for RAG system\ndef create_farming_knowledge_from_sf24(df):\n    \"\"\"Convert SF24 dataset into RAG-ready knowledge entries\"\"\"\n    knowledge_entries = []\n    \n    for idx, row in df.iterrows():\n        # Create comprehensive farming advice entries\n        content = f\"\"\"\nFor {row['label']} cultivation: Optimal soil conditions require Nitrogen {row['N']}ppm, Phosphorus {row['P']}ppm, Potassium {row['K']}ppm. \nEnvironmental requirements: Temperature {row['temperature']:.1f}\u00b0C, humidity {row['humidity']:.1f}%, pH {row['ph']:.2f}, rainfall {row['rainfall']:.1f}mm.\nSoil management: Moisture level {row['soil_moisture']:.1f}%, organic matter {row['organic_matter']:.2f}%, soil type {row['soil_type']}.\nFarming practices: Irrigation frequency {row['irrigation_frequency']} days, fertilizer usage {row['fertilizer_usage']:.1f}kg/ha.\nGrowth conditions: Crop density {row['crop_density']:.1f}, pest pressure {row['pest_pressure']:.1f}, growth stage {row['growth_stage']}.\nWater management: Usage efficiency {row['water_usage_efficiency']:.2f}, water source type {row['water_source_type']}, frost risk {row['frost_risk']:.1f}%.\nLocation factors: Urban proximity {row['urban_area_proximity']:.1f}km.\n        \"\"\".strip()\n        \n        knowledge_entries.append({\n            \"id\": f\"sf24_{idx}\",\n            \"category\": \"crop_guidance\",\n            \"crop\": row['label'].lower(),\n            \"content\": content,\n            \"keywords\": [row['label'].lower(), \"soil\", \"nutrients\", \"environmental\", \"farming\"],\n            \"source\": \"Smart Farming Data 2024\"\n        })\n    \n    return knowledge_entries\n\n# Create knowledge base\nsf24_knowledge = create_farming_knowledge_from_sf24(sf24_df)\nprint(f\"Created {len(sf24_knowledge)} knowledge entries from SF24 dataset\")\n\n# Preview first entry\nprint(f\"\\n Sample Knowledge Entry:\")\nprint(f\"Crop: {sf24_knowledge[0]['crop']}\")\nprint(f\"Content: {sf24_knowledge[0]['content'][:200]}...\")\n",
            "metadata": {
                "id": "2debdec1-aced-4ceb-b912-719e34db7429"
            },
            "outputs": [
                {
                    "name": "stdout",
                    "text": "Created 2200 knowledge entries from SF24 dataset\n\n Sample Knowledge Entry:\nCrop: rice\nContent: For rice cultivation: Optimal soil conditions require Nitrogen 90ppm, Phosphorus 42ppm, Potassium 43ppm. \nEnvironmental requirements: Temperature 20.9\u00b0C, humidity 82.0%, pH 6.50, rainfall 202.9mm.\nSoi...\n",
                    "output_type": "stream"
                }
            ],
            "execution_count": 4
        },
        {
            "cell_type": "markdown",
            "source": "# Set up watsonx.ai Embeddings and Granite Model",
            "metadata": {
                "id": "615608e7-9795-4632-8f94-ca4c0d18a620"
            }
        },
        {
            "cell_type": "code",
            "source": "from ibm_watsonx_ai.foundation_models.embeddings import Embeddings\nfrom ibm_watsonx_ai.foundation_models import ModelInference\nfrom ibm_watsonx_ai.foundation_models.utils.enums import ModelTypes\nfrom ibm_watsonx_ai.metanames import GenTextParamsMetaNames as GenParams\n\n# Set up your watsonx.ai credentials\nwatsonx_credentials = {\n    \"apikey\": \"ZI6Cjr2YpcPN78n_iyCmbZt1i20E0CZUeKYRF2eItqa4\",  # Replace with your API key\n    \"url\": \"https://eu-gb.ml.cloud.ibm.com\"\n}\nproject_id = \"e9eee040-6177-4fa5-bab1-eb98ba7952d5\" \n\n# Initialize embedding model for RAG retrieval\nembedding_model = Embeddings(\n    model_id=\"ibm/slate-125m-english-rtrvr\",\n    credentials=watsonx_credentials,\n    project_id=project_id\n)\n\ngranite_model = ModelInference(\n    model_id=\"ibm/granite-3-8b-instruct\" ,\n    credentials=watsonx_credentials,\n    project_id=project_id,\n    params={\n        GenParams.DECODING_METHOD: \"greedy\",\n        GenParams.MAX_NEW_TOKENS: 400,\n        GenParams.TEMPERATURE: 0.3,\n        GenParams.REPETITION_PENALTY: 1.1\n    }\n)\n\nprint(\"watsonx.ai models initialized successfully\")\n",
            "metadata": {
                "id": "8274d659-3a6e-4819-b8ef-4807f8f441ec"
            },
            "outputs": [
                {
                    "name": "stdout",
                    "text": "watsonx.ai models initialized successfully\n",
                    "output_type": "stream"
                }
            ],
            "execution_count": 6
        },
        {
            "cell_type": "markdown",
            "source": "# Create Embeddings for Knowledge Base",
            "metadata": {
                "id": "d6bf3700-facf-47e8-ad75-8643313f7276"
            }
        },
        {
            "cell_type": "code",
            "source": "import numpy as np\nfrom scipy.spatial.distance import cosine\nimport time\n\n# Create embeddings for your SF24 knowledge base\nprint(\"\ud83d\udd04 Creating embeddings for SF24 knowledge base...\")\nstart_time = time.time()\n\n# Extract content for embedding (limit to first 500 for demo)\ndemo_knowledge = sf24_knowledge[:500]  # Adjust size based on your needs\ndocuments = [entry['content'] for entry in demo_knowledge]\n\n# Generate embeddings in batches to avoid timeout\nbatch_size = 50\nall_embeddings = []\n\nfor i in range(0, len(documents), batch_size):\n    batch = documents[i:i+batch_size]\n    batch_embeddings = embedding_model.embed_documents(batch)\n    all_embeddings.extend(batch_embeddings)\n    print(f\"\u2705 Processed batch {i//batch_size + 1}/{(len(documents)-1)//batch_size + 1}\")\n\ndoc_embeddings = np.array(all_embeddings)\nprint(f\"\u2705 Created embeddings for {len(demo_knowledge)} knowledge entries\")\nprint(f\"\u23f1\ufe0f Time taken: {time.time() - start_time:.2f} seconds\")\n",
            "metadata": {
                "id": "580d920d-71cb-4d11-8e4b-af790f16183a"
            },
            "outputs": [
                {
                    "name": "stdout",
                    "text": "\ud83d\udd04 Creating embeddings for SF24 knowledge base...\n\u2705 Processed batch 1/10\n\u2705 Processed batch 2/10\n\u2705 Processed batch 3/10\n\u2705 Processed batch 4/10\n\u2705 Processed batch 5/10\n\u2705 Processed batch 6/10\n\u2705 Processed batch 7/10\n\u2705 Processed batch 8/10\n\u2705 Processed batch 9/10\n\u2705 Processed batch 10/10\n\u2705 Created embeddings for 500 knowledge entries\n\u23f1\ufe0f Time taken: 5.86 seconds\n",
                    "output_type": "stream"
                }
            ],
            "execution_count": 7
        },
        {
            "cell_type": "markdown",
            "source": "# Implement Complete RAG Pipeline",
            "metadata": {
                "id": "114fb48c-f0ec-4841-b66c-e9454f9a33a9"
            }
        },
        {
            "cell_type": "code",
            "source": "class SmartFarmingAIAgent:\n    def __init__(self, knowledge_entries, embeddings, embedding_model, granite_model):\n        self.knowledge_entries = knowledge_entries\n        self.doc_embeddings = embeddings\n        self.embedding_model = embedding_model\n        self.granite_model = granite_model\n    \n    def retrieve_relevant_knowledge(self, query, top_k=3):\n        \"\"\"Retrieve most relevant farming knowledge for the query\"\"\"\n        # Embed the query\n        query_embedding = self.embedding_model.embed_query(query)\n        \n        # Calculate similarities\n        similarities = []\n        for idx, doc_embedding in enumerate(self.doc_embeddings):\n            similarity = 1 - cosine(query_embedding, doc_embedding)\n            similarities.append((similarity, idx))\n        \n        # Get top-k most relevant entries\n        top_entries = sorted(similarities, reverse=True)[:top_k]\n        relevant_knowledge = []\n        \n        for similarity, idx in top_entries:\n            entry = self.knowledge_entries[idx].copy()\n            entry['relevance_score'] = similarity\n            relevant_knowledge.append(entry)\n        \n        return relevant_knowledge\n    \n    def generate_farming_advice(self, query, language=\"english\"):\n        \"\"\"Generate comprehensive farming advice using RAG\"\"\"\n        # Step 1: Retrieve relevant knowledge\n        relevant_knowledge = self.retrieve_relevant_knowledge(query, top_k=3)\n        \n        # Step 2: Format context\n        context = \"\\n\\n\".join([\n            f\"[SF24 Data - {entry['crop'].title()}] {entry['content']}\"\n            for entry in relevant_knowledge\n        ])\n        \n        # Step 3: Create specialized farming prompt\n        system_prompt = \"\"\"You are an expert agricultural advisor for farmers in West Bengal, India. \nYou provide practical, data-driven farming advice based on the Smart Farming Data 2024 dataset.\nYour advice should be specific, actionable, and consider local farming conditions.\"\"\"\n        \n        if language == \"bengali\":\n            user_instruction = \"\u09ac\u09be\u0982\u09b2\u09be\u09af\u09bc \u0989\u09a4\u09cd\u09a4\u09b0 \u09a6\u09bf\u09a8\u0964\"\n        else:\n            user_instruction = \"Provide clear advice in simple English.\"\n        \n        prompt = f\"\"\"{system_prompt}\n\nAgricultural Data Context (from Smart Farming Data 2024):\n{context}\n\nFarmer's Question: {query}\n\nInstructions: {user_instruction}\nConsider soil conditions, environmental factors, nutrient requirements, and farming practices from the data.\n\nExpert Advice:\"\"\"\n        \n        # Step 4: Generate response\n        try:\n            advice = self.granite_model.generate_text(prompt=prompt)\n            \n            return {\n                \"question\": query,\n                \"advice\": advice,\n                \"relevant_crops\": [entry['crop'] for entry in relevant_knowledge],\n                \"confidence\": np.mean([entry['relevance_score'] for entry in relevant_knowledge]),\n                \"data_sources\": len(relevant_knowledge),\n                \"language\": language\n            }\n        except Exception as e:\n            return {\n                \"question\": query,\n                \"advice\": f\"I apologize, I'm having trouble generating advice right now. Error: {str(e)}\",\n                \"error\": True\n            }\n    \n    def get_crop_recommendation(self, soil_conditions):\n        \"\"\"Get crop recommendations based on soil conditions\"\"\"\n        query = f\"What crop is best for soil with N:{soil_conditions.get('N', 50)}, P:{soil_conditions.get('P', 30)}, K:{soil_conditions.get('K', 40)}, pH:{soil_conditions.get('ph', 6.5)}, moisture:{soil_conditions.get('moisture', 25)}%?\"\n        return self.generate_farming_advice(query)\n\n# Initialize your Smart Farming AI Agent\nfarming_agent = SmartFarmingAIAgent(\n    knowledge_entries=demo_knowledge,\n    embeddings=doc_embeddings,\n    embedding_model=embedding_model,\n    granite_model=granite_model\n)\n\nprint(\"\u2705 Smart Farming AI Agent initialized successfully!\")\n",
            "metadata": {
                "id": "cadafa9c-b6dd-4c13-8d70-46fe083d606d"
            },
            "outputs": [
                {
                    "name": "stdout",
                    "text": "\u2705 Smart Farming AI Agent initialized successfully!\n",
                    "output_type": "stream"
                }
            ],
            "execution_count": 8
        },
        {
            "cell_type": "markdown",
            "source": "# Test the AI Agent",
            "metadata": {
                "id": "ec8eea5c-ef78-4ee1-a1bc-d4f3dc4dfc47"
            }
        },
        {
            "cell_type": "code",
            "source": "# Test with sample farming questions\ntest_queries = [\n    \"What fertilizer should I use for rice cultivation?\",\n    \"My soil has pH 6.2 and 30% moisture. Which crop is best?\",\n    \"How to manage pest pressure in wheat farming?\",\n    \"What is the optimal irrigation frequency for cotton?\",\n    \"\u0986\u09ae\u09be\u09b0 \u09a7\u09be\u09a8\u09c7\u09b0 \u099c\u09ae\u09bf\u09a4\u09c7 \u0995\u09c0 \u09b8\u09be\u09b0 \u09ac\u09cd\u09af\u09ac\u09b9\u09be\u09b0 \u0995\u09b0\u09ac?\"  # Bengali query\n]\n\nprint(\" Testing Smart Farming AI Agent:\")\nprint(\"=\" * 60)\n\nfor i, query in enumerate(test_queries, 1):\n    print(f\"\\n{i}. Testing Query: {query}\")\n    \n    # Detect language for Bengali queries\n    language = \"bengali\" if any(char in query for char in ['\u0986', '\u09ac', '\u0995', '\u09ae', '\u09a7']) else \"english\"\n    \n    result = farming_agent.generate_farming_advice(query, language)\n    \n    print(f\"   Relevant Crops: {result['relevant_crops']}\")\n    print(f\"   Confidence: {result['confidence']:.3f}\")\n    print(f\"   Advice: {result['advice'][:150]}...\")\n    print(\"-\" * 40)\n",
            "metadata": {
                "id": "ee106d96-71e8-43a7-9afc-8bad1cdc3398"
            },
            "outputs": [
                {
                    "name": "stdout",
                    "text": " Testing Smart Farming AI Agent:\n============================================================\n\n1. Testing Query: What fertilizer should I use for rice cultivation?\n   Relevant Crops: ['rice', 'rice', 'rice']\n   Confidence: 0.791\n   Advice: \nBased on the Smart Farming Data 2024, you should use a balanced fertilizer that provides Nitrogen, Phosphorus, and Potassium at the optimal levels re...\n----------------------------------------\n\n2. Testing Query: My soil has pH 6.2 and 30% moisture. Which crop is best?\n   Relevant Crops: ['maize', 'maize', 'maize']\n   Confidence: 0.706\n   Advice: \nBased on the provided data, none of the given maize datasets perfectly match your soil conditions. However, considering your soil pH (6.2) falls with...\n----------------------------------------\n\n3. Testing Query: How to manage pest pressure in wheat farming?\n   Relevant Crops: ['pigeonpeas', 'pigeonpeas', 'pigeonpeas']\n   Confidence: 0.579\n   Advice: \n\nTo manage pest pressure in wheat farming, consider the following strategies tailored to your local conditions in West Bengal, India:\n\n1. Soil Manage...\n----------------------------------------\n\n4. Testing Query: What is the optimal irrigation frequency for cotton?\n   Relevant Crops: ['rice', 'rice', 'rice']\n   Confidence: 0.608\n   Advice: \nBased on the provided data, there is no information available specifically for cotton cultivation. However, considering the general trends observed i...\n----------------------------------------\n\n5. Testing Query: \u0986\u09ae\u09be\u09b0 \u09a7\u09be\u09a8\u09c7\u09b0 \u099c\u09ae\u09bf\u09a4\u09c7 \u0995\u09c0 \u09b8\u09be\u09b0 \u09ac\u09cd\u09af\u09ac\u09b9\u09be\u09b0 \u0995\u09b0\u09ac?\n   Relevant Crops: ['rice', 'rice', 'rice']\n   Confidence: 0.431\n   Advice: \n\u0986\u09aa\u09a8\u09be\u09b0 \u09a7\u09be\u09a8\u09c7\u09b0 \u099c\u09ae\u09bf\u09a4\u09c7 \u09a8\u09bf\u09ae\u09cd\u09a8\u09b2\u09bf\u0996\u09bf\u09a4 \u09b8\u09be\u09b0 \u09ac\u09cd\u09af\u09ac\u09b9\u09be\u09b0 \u0995\u09b0\u09c1\u09a8:\n\n1. \u09a8\u09be\u0987\u099f\u09cd\u09b0\u09cb\u099c\u09c7\u09a8 (Nitrogen) - 74.5 kg/ha\n2. \u09aa\u09ab\u09b8\u09b0\u09be\u09b8 (Phosphorus) - 74.5 kg/ha\n3. \u09aa\u099f\u09be\u09b6\u09bf (Potassium) - 74.5...\n----------------------------------------\n",
                    "output_type": "stream"
                }
            ],
            "execution_count": 9
        },
        {
            "cell_type": "code",
            "source": "",
            "metadata": {
                "id": "370e5d4e-b75e-4804-90f0-de24d3407f9e"
            },
            "outputs": [],
            "execution_count": null
        }
    ]
}